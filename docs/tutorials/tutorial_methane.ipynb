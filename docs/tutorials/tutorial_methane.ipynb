{
 "cells": [
  {
   "cell_type": "markdown",
   "metadata": {},
   "source": [
    "Methane: ```Compounds``` and bonds\n",
    "===============\n",
    "\n",
    "What you will learn\n",
    "------------------\n",
    "* ```Compound```: the basic building block of ```mBuild```\n",
    "* ```Particle```: the lowest level ```Compounds``` in an ```mBuild``` hierarchy\n",
    "* ```Compound.add_bond()```: adding bonds between ```Particles```\n",
    "* ```[$]``` labeling \n",
    "\n",
    "__Note__: mBuild expects all distance units to be in nanometers."
   ]
  },
  {
   "cell_type": "markdown",
   "metadata": {},
   "source": [
    "The primary building block in ```mBuild``` is a `Compound`. Anything you construct will inherit from this class. Any `Compound` can contain other `Compounds` which can be added using its `add()` method. `Compounds` at the bottom of such a hierarchy are referred to as `Particles`. Note however, that this is purely semantic in `mBuild` to designate the bottom of a hierarchy."
   ]
  },
  {
   "cell_type": "markdown",
   "metadata": {},
   "source": [
    "Let's begin by constructing a methane molecule. We'll start by calling `mb.Compound()`, which will return an empty `Compound`. Next, create a particle named 'C', place it at the origin, and add it to the compound."
   ]
  },
  {
   "cell_type": "code",
   "execution_count": 6,
   "metadata": {
    "collapsed": false
   },
   "outputs": [],
   "source": [
    "import mbuild as mb\n",
    "\n",
    "methane = mb.Compound()\n",
    "carbon = mb.Particle(name='C', pos=[0, 0, 0])\n",
    "methane.add(carbon, label='C[$]')"
   ]
  },
  {
   "cell_type": "markdown",
   "metadata": {},
   "source": [
    "Note the `C[$]` label we give the carbon when we add it to the `Compound`. This allows us to reference this particle via `Compound['C'][0]`. "
   ]
  },
  {
   "cell_type": "markdown",
   "metadata": {},
   "source": [
    "Now let's add the hydrogens, again using the `[$]` labelling. "
   ]
  },
  {
   "cell_type": "code",
   "execution_count": 7,
   "metadata": {
    "collapsed": false
   },
   "outputs": [],
   "source": [
    "import mbuild as mb\n",
    "\n",
    "methane = mb.Compound()\n",
    "carbon = mb.Particle(name='C', pos=[0, 0, 0])\n",
    "methane.add(carbon, label='C[$]')\n",
    "methane.add(mb.Particle(name='H', pos=[0.1, 0, -0.07]), label='H[$]')\n",
    "methane.add(mb.Particle(name='H', pos=[-0.1, 0, -0.07]), label='HC[$]')\n",
    "methane.add(mb.Particle(name='H', pos=[0, 0.1, 0.07]), label='HC[$]')\n",
    "methane.add(mb.Particle(name='H', pos=[0, -0.1, 0.07]), label='HC[$]')"
   ]
  },
  {
   "cell_type": "markdown",
   "metadata": {},
   "source": [
    "So now we have a carbon surrounded by 4 hydrogens. Simply adding particles to a compound does not add bonds, we must tell `mBuild` to add the bonds. Notice how we reference the particles by index, which is enabled by the labels we gave each when adding them to the `Compound`."
   ]
  },
  {
   "cell_type": "code",
   "execution_count": 8,
   "metadata": {
    "collapsed": false
   },
   "outputs": [],
   "source": [
    "import mbuild as mb\n",
    "\n",
    "methane = mb.Compound()\n",
    "carbon = mb.Particle(name='C', pos=[0, 0, 0])\n",
    "methane.add(carbon, label='C[$]')\n",
    "methane.add(mb.Particle(name='H', pos=[0.1, 0, -0.07]), label='H[$]')\n",
    "methane.add(mb.Particle(name='H', pos=[-0.1, 0, -0.07]), label='H[$]')\n",
    "methane.add(mb.Particle(name='H', pos=[0, 0.1, 0.07]), label='H[$]')\n",
    "methane.add(mb.Particle(name='H', pos=[0, -0.1, 0.07]), label='H[$]')\n",
    "methane.add_bond((methane['C'][0], methane['H'][0]))\n",
    "methane.add_bond((methane['C'][0], methane['H'][1]))\n",
    "methane.add_bond((methane['C'][0], methane['H'][2]))\n",
    "methane.add_bond((methane['C'][0], methane['H'][3]))"
   ]
  },
  {
   "cell_type": "markdown",
   "metadata": {},
   "source": [
    "Finally, we can visualize our compound."
   ]
  },
  {
   "cell_type": "code",
   "execution_count": 9,
   "metadata": {
    "collapsed": false
   },
   "outputs": [],
   "source": [
    "import mbuild as mb\n",
    "\n",
    "methane = mb.Compound()\n",
    "carbon = mb.Particle(name='C', pos=[0, 0, 0])\n",
    "methane.add(carbon, label='C[$]')\n",
    "methane.add(mb.Particle(name='H', pos=[0.1, 0, -0.07]), label='H[$]')\n",
    "methane.add(mb.Particle(name='H', pos=[-0.1, 0, -0.07]), label='H[$]')\n",
    "methane.add(mb.Particle(name='H', pos=[0, 0.1, 0.07]), label='H[$]')\n",
    "methane.add(mb.Particle(name='H', pos=[0, -0.1, 0.07]), label='H[$]')\n",
    "methane.add_bond((methane['C'][0], methane['H'][0]))\n",
    "methane.add_bond((methane['C'][0], methane['H'][1]))\n",
    "methane.add_bond((methane['C'][0], methane['H'][2]))\n",
    "methane.add_bond((methane['C'][0], methane['H'][3]))\n",
    "methane.visualize()"
   ]
  },
  {
   "cell_type": "markdown",
   "metadata": {},
   "source": [
    "We can wrap all of this into a class, and use that instantiate methane `Compound`s."
   ]
  },
  {
   "cell_type": "code",
   "execution_count": 10,
   "metadata": {
    "collapsed": false
   },
   "outputs": [],
   "source": [
    "import mbuild as mb\n",
    "\n",
    "class Methane(mb.Compound):\n",
    "    def __init__(self):\n",
    "        super(Methane, self).__init__()\n",
    "        self.add(mb.Particle(name='C', pos=[0, 0, 0]), label='C[$]')\n",
    "        self.add(mb.Particle(name='H', pos=[0.1, 0, -0.07]), label='H[$]')\n",
    "        self.add(mb.Particle(name='H', pos=[-0.1, 0, -0.07]), label='H[$]')\n",
    "        self.add(mb.Particle(name='H', pos=[0, 0.1, 0.07]), label='H[$]')\n",
    "        self.add(mb.Particle(name='H', pos=[0, -0.1, 0.07]), label='H[$]')\n",
    "        for i in range(3):\n",
    "            self.add_bond((self['C'][0], self['H'][i]))\n",
    "\n",
    "methane = Methane()\n",
    "methane.visualize()"
   ]
  }
 ],
 "metadata": {
  "kernelspec": {
   "display_name": "Python 3",
   "language": "python",
   "name": "python3"
  },
  "language_info": {
   "codemirror_mode": {
    "name": "ipython",
    "version": 3
   },
   "file_extension": ".py",
   "mimetype": "text/x-python",
   "name": "python",
   "nbconvert_exporter": "python",
   "pygments_lexer": "ipython3",
   "version": "3.5.2"
  },
  "widgets": {
   "state": {
    "243ffd140e7642278dc84809e3877903": {
     "views": [
      {
       "cell_index": 12
      }
     ]
    },
    "24b12f405f6349bda179f9e8bf44f491": {
     "views": [
      {
       "cell_index": 10
      }
     ]
    },
    "39938bda12474a8aaf239745c0754343": {
     "views": [
      {
       "cell_index": 10
      }
     ]
    },
    "4414374916fd4c79a07f74fca3619aef": {
     "views": [
      {
       "cell_index": 6
      }
     ]
    },
    "5406819e9b7849379fef3f9af6acfb6f": {
     "views": [
      {
       "cell_index": 10
      }
     ]
    },
    "668b51109cad49a18796f726f75a555f": {
     "views": [
      {
       "cell_index": 10
      }
     ]
    },
    "8d417b8191d146648bd237c539563ea4": {
     "views": [
      {
       "cell_index": 12
      }
     ]
    },
    "acb10560749149c9a0227cc5ec0af2e9": {
     "views": [
      {
       "cell_index": 10
      }
     ]
    },
    "b631472d69414a899ecdc6e24c221572": {
     "views": [
      {
       "cell_index": 12
      }
     ]
    },
    "f3299704db3e45ea9d49bad5005fb872": {
     "views": [
      {
       "cell_index": 12
      }
     ]
    }
   },
   "version": "1.2.0"
  }
 },
 "nbformat": 4,
 "nbformat_minor": 0
}
