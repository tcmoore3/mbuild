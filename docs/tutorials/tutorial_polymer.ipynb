{
 "cells": [
  {
   "cell_type": "markdown",
   "metadata": {},
   "source": [
    "Polymers\n",
    "==\n",
    "\n",
    "What you will learn\n",
    "--\n",
    "* How to use the `Polymer` class of `mBuild`"
   ]
  },
  {
   "cell_type": "markdown",
   "metadata": {},
   "source": [
    "Here, we will construct a polymer using the `Polymer` class of `mBuild`. Specifically, we will first create a homopolymer of the DNA nucleotide guanosine. First, as in the previous tutorials, we will wrap the monomer into a class. "
   ]
  },
  {
   "cell_type": "code",
   "execution_count": 7,
   "metadata": {
    "collapsed": false
   },
   "outputs": [
    {
     "name": "stderr",
     "output_type": "stream",
     "text": [
      "/Users/tcmoore3/anaconda/envs/mbuild/lib/python3.5/site-packages/numpy/linalg/linalg.py:1776: RuntimeWarning: invalid value encountered in det\n",
      "  r = _umath_linalg.det(a, signature=signature)\n",
      "/Users/tcmoore3/anaconda/envs/mbuild/lib/python3.5/site-packages/mdtraj/formats/pdb/pdbfile.py:194: RuntimeWarning: divide by zero encountered in true_divide\n",
      "  particle_density = traj.top.n_atoms / traj.unitcell_volumes[0]\n",
      "/Users/tcmoore3/anaconda/envs/mbuild/lib/python3.5/site-packages/mdtraj/formats/pdb/pdbfile.py:196: UserWarning: Unlikely unit cell vectors detected in PDB file likely resulting from a dummy CRYST1 record. Discarding unit cell vectors.\n",
      "  warnings.warn('Unlikely unit cell vectors detected in PDB file likely '\n"
     ]
    }
   ],
   "source": [
    "import mbuild as mb\n",
    "class Guanosine(mb.Compound):\n",
    "    def __init__(self):\n",
    "        super(Guanosine, self).__init__()\n",
    "        self.add(mb.load('G.pdb'))\n",
    "        self.add(mb.Port(anchor=self[33]))\n",
    "\n",
    "G = Guanosine()\n",
    "G.visualize(show_ports=True)"
   ]
  },
  {
   "cell_type": "code",
   "execution_count": 1,
   "metadata": {
    "collapsed": false
   },
   "outputs": [
    {
     "name": "stderr",
     "output_type": "stream",
     "text": [
      "/Users/tcmoore3/anaconda/envs/mbuild/lib/python3.5/site-packages/jupyter_core/application.py:106: DeprecationWarning: metadata {'config': True} was set from the constructor. With traitlets 4.1, metadata should be set using the .tag() method, e.g., Int().tag(key1='value1', key2='value2')\n",
      "  help=\"\"\"Generate default config file.\"\"\"\n",
      "/Users/tcmoore3/anaconda/envs/mbuild/lib/python3.5/site-packages/notebook/nbextensions.py:628: DeprecationWarning: metadata {'config': True} was set from the constructor. With traitlets 4.1, metadata should be set using the .tag() method, e.g., Int().tag(key1='value1', key2='value2')\n",
      "  user = Bool(False, config=True, help=\"Whether to do a user install\")\n",
      "/Users/tcmoore3/anaconda/envs/mbuild/lib/python3.5/site-packages/ipywidgets/widgets/widget.py:166: DeprecationWarning: Widget._keys_default is deprecated in traitlets 4.1: use @default decorator instead.\n",
      "  def _keys_default(self):\n"
     ]
    }
   ],
   "source": [
    "import mbuild as mb\n"
   ]
  }
 ],
 "metadata": {
  "kernelspec": {
   "display_name": "Python 3",
   "language": "python",
   "name": "python3"
  },
  "language_info": {
   "codemirror_mode": {
    "name": "ipython",
    "version": 3
   },
   "file_extension": ".py",
   "mimetype": "text/x-python",
   "name": "python",
   "nbconvert_exporter": "python",
   "pygments_lexer": "ipython3",
   "version": "3.5.2"
  },
  "widgets": {
   "state": {
    "7b432042542f4144a9551c253265de63": {
     "views": [
      {
       "cell_index": 2
      }
     ]
    },
    "7eb990fe28ee4bbbb4433974662e6f95": {
     "views": [
      {
       "cell_index": 2
      }
     ]
    },
    "848bed5573764f9db75161c51e9732a4": {
     "views": [
      {
       "cell_index": 0
      }
     ]
    },
    "c7e60370f2e749a38caa2418bcd3dfdd": {
     "views": [
      {
       "cell_index": 0
      }
     ]
    },
    "fa93bae5203b4f40853a5d41528e882d": {
     "views": [
      {
       "cell_index": 2
      }
     ]
    }
   },
   "version": "1.2.0"
  }
 },
 "nbformat": 4,
 "nbformat_minor": 2
}
