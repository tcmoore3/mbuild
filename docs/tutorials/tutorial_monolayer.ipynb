{
 "cells": [
  {
   "cell_type": "markdown",
   "metadata": {
    "deletable": true,
    "editable": true
   },
   "source": [
    "Monolayer: Complex hierarchies, patterns, and tiling\n",
    "==\n",
    "\n",
    "What you will learn\n",
    "--\n",
    "* Assembling comxplex hierarchies of `Compound`s\n",
    "* Creating patterns\n",
    "* Tiling: replicating `Compound`s\n",
    "\n",
    "__Note__: mBuild expects all distance units to be in nanometers.\n",
    "\n",
    "In this example, we'll cover assembling more complex hierarchies of components using patterns, tiling and how to output systems to files. To illustrate these concepts, let's build an alkane monolayer on a crystalline substrate.\n",
    "\n",
    "First, let's build our monomers and functionalize them with a silane group which we can then attach to the substrate. The `Alkane` example uses the `polymer` tool to combine `CH2` and `CH3` repeat units. You also have the option to cap the front and back of the chain or to leave a `CH2` group with a dangling port. The `Silane` compound is a Si(OH)<sub>2</sub> group with two ports facing out from the central Si. Lastly, we combine `alkane` with `silane` and add a label to `AlkylSilane` which points to, `silane['down']`. This allows us to reference it later using `AlkylSilane['down']` rather than `AlkylSilane['silane']['down']`.\n",
    "\n",
    "__Note:__ In `Compounds` with multiple `Ports`, by convention, we try to label every `Port` successively as 'up', 'down', 'left', 'right', 'front', 'back' which should roughly correspond to their relative orientations. This is a bit tricky to enforce because the system is so flexible so use your best judgement and try to be consistent! The more components we collect in our library with the same labeling conventions, the easier it becomes to build ever more complex structures."
   ]
  },
  {
   "cell_type": "code",
   "execution_count": 2,
   "metadata": {
    "collapsed": false,
    "deletable": true,
    "editable": true
   },
   "outputs": [
    {
     "name": "stderr",
     "output_type": "stream",
     "text": [
      "/Users/tcmoore3/anaconda/envs/mbuild/lib/python3.5/site-packages/jupyter_core/application.py:106: DeprecationWarning: metadata {'config': True} was set from the constructor. With traitlets 4.1, metadata should be set using the .tag() method, e.g., Int().tag(key1='value1', key2='value2')\n",
      "  help=\"\"\"Generate default config file.\"\"\"\n",
      "/Users/tcmoore3/anaconda/envs/mbuild/lib/python3.5/site-packages/notebook/nbextensions.py:628: DeprecationWarning: metadata {'config': True} was set from the constructor. With traitlets 4.1, metadata should be set using the .tag() method, e.g., Int().tag(key1='value1', key2='value2')\n",
      "  user = Bool(False, config=True, help=\"Whether to do a user install\")\n",
      "/Users/tcmoore3/anaconda/envs/mbuild/lib/python3.5/site-packages/ipywidgets/widgets/widget.py:166: DeprecationWarning: Widget._keys_default is deprecated in traitlets 4.1: use @default decorator instead.\n",
      "  def _keys_default(self):\n"
     ]
    }
   ],
   "source": [
    "import mbuild as mb\n",
    "\n",
    "from mbuild.examples import Alkane\n",
    "from mbuild.lib.moieties import Silane\n",
    "\n",
    "\n",
    "class AlkylSilane(mb.Compound):\n",
    "    \"\"\"A silane functionalized alkane chain with one Port. \"\"\"\n",
    "    def __init__(self, chain_length):\n",
    "        super(AlkylSilane, self).__init__()\n",
    "\n",
    "        alkane = Alkane(chain_length, cap_end=False)\n",
    "        self.add(alkane, 'alkane')\n",
    "        silane = Silane()\n",
    "        self.add(silane, 'silane')\n",
    "        mb.force_overlap(self['alkane'], self['alkane']['down'], self['silane']['up'])\n",
    "\n",
    "        # Hoist silane port to AlkylSilane level.\n",
    "        self.add(silane['down'], 'down', containment=False)\n",
    "AlkylSilane(5).visualize()"
   ]
  },
  {
   "cell_type": "markdown",
   "metadata": {
    "deletable": true,
    "editable": true
   },
   "source": [
    "Now let's create a substrate to which we can later attach our monomers:"
   ]
  },
  {
   "cell_type": "code",
   "execution_count": 6,
   "metadata": {
    "collapsed": false,
    "deletable": true,
    "editable": true
   },
   "outputs": [
    {
     "name": "stderr",
     "output_type": "stream",
     "text": [
      "/Users/tcmoore3/anaconda/envs/mbuild/lib/python3.5/site-packages/pandas/io/parsers.py:1961: FutureWarning: split() requires a non-empty pattern match.\n",
      "  yield pat.split(line.strip())\n",
      "/Users/tcmoore3/anaconda/envs/mbuild/lib/python3.5/site-packages/pandas/io/parsers.py:1963: FutureWarning: split() requires a non-empty pattern match.\n",
      "  yield pat.split(line.strip())\n"
     ]
    }
   ],
   "source": [
    "import mbuild as mb\n",
    "from mbuild.lib.surfaces import Betacristobalite\n",
    "\n",
    "surface = Betacristobalite()\n",
    "tiled_surface = mb.TiledCompound(surface, n_tiles=(2, 1, 1))"
   ]
  },
  {
   "cell_type": "markdown",
   "metadata": {
    "deletable": true,
    "editable": true
   },
   "source": [
    "Here we've imported a beta-cristobalite surface from our component library. The `TiledCompound` tool allows you replicate any `Compound` in the x-, y-\n",
    "and z-directions by any number of times&mdash;2, 1 and 1 for our case.\n",
    "\n",
    "Next, let's create our monomer and a hydrogen atom that we'll place on unoccupied surface sites:"
   ]
  },
  {
   "cell_type": "code",
   "execution_count": 4,
   "metadata": {
    "collapsed": true,
    "deletable": true,
    "editable": true
   },
   "outputs": [],
   "source": [
    "from mbuild.lib.atoms import H\n",
    "alkylsilane = AlkylSilane(chain_length=10)\n",
    "hydrogen = H()"
   ]
  },
  {
   "cell_type": "markdown",
   "metadata": {
    "deletable": true,
    "editable": true
   },
   "source": [
    "Now we need to tell `mBuild` how to arrange the chains on the surface. This is accomplished with the `Pattern` class. Every `Pattern` is just a collection of points. There are all kinds of patterns, e.g., spherical, 2D, regular, irregular etc. When you use the `apply_to_compound()` method, you effectively superimpose the pattern onto the host `Compound`, `mBuild` figures out what the closest ports are to the pattern points and then attaches copies of the guest onto the binding sites identified by the pattern."
   ]
  },
  {
   "cell_type": "code",
   "execution_count": 7,
   "metadata": {
    "collapsed": false,
    "deletable": true,
    "editable": true
   },
   "outputs": [],
   "source": [
    "pattern = mb.Grid2DPattern(8, 8)  # Evenly spaced, 2D grid of points.\n",
    "\n",
    "# Attach chains to specified binding sites. Other sites get a hydrogen.\n",
    "chains, hydrogens = pattern.apply_to_compound(host=tiled_surface, \n",
    "                                              guest=alkylsilane,\n",
    "                                              backfill=hydrogen)"
   ]
  },
  {
   "cell_type": "markdown",
   "metadata": {
    "deletable": true,
    "editable": true
   },
   "source": [
    "Also note the `backfill` optional argument which allows you to place a different compound on any unused ports. In this case we want to backfill with hydrogen atoms on every port without a chain.\n",
    "\n",
    "\n",
    "And that's it! Check out `examples.alkane_monolayer` for the fully wrapped class."
   ]
  },
  {
   "cell_type": "code",
   "execution_count": 8,
   "metadata": {
    "collapsed": false,
    "deletable": true,
    "editable": true
   },
   "outputs": [],
   "source": [
    "monolayer = mb.Compound([tiled_surface, chains, hydrogens])\n",
    "monolayer.visualize() # Warning: may be slow in IPython notebooks"
   ]
  },
  {
   "cell_type": "code",
   "execution_count": null,
   "metadata": {
    "collapsed": false,
    "deletable": true,
    "editable": true
   },
   "outputs": [],
   "source": [
    "# Save as .mol2 file\n",
    "monolayer.save('monolayer.mol2', overwrite=True)"
   ]
  }
 ],
 "metadata": {
  "kernelspec": {
   "display_name": "Python 3",
   "language": "python",
   "name": "python3"
  },
  "language_info": {
   "codemirror_mode": {
    "name": "ipython",
    "version": 3
   },
   "file_extension": ".py",
   "mimetype": "text/x-python",
   "name": "python",
   "nbconvert_exporter": "python",
   "pygments_lexer": "ipython3",
   "version": "3.5.2"
  },
  "widgets": {
   "state": {
    "0b2ad1901a804f35bf2016d9d4153d8e": {
     "views": [
      {
       "cell_index": 1
      }
     ]
    },
    "0bcfa6fecbfd43a1b70cebd11df389fc": {
     "views": [
      {
       "cell_index": 1
      }
     ]
    },
    "17de34e0a0634fa89c902574a4d0851c": {
     "views": [
      {
       "cell_index": 9
      }
     ]
    },
    "19c0f3fc207247018d9fb7bcbb322ce8": {
     "views": [
      {
       "cell_index": 3
      }
     ]
    },
    "27a25fb38c7d4366aced27c4ceb6fd1c": {
     "views": [
      {
       "cell_index": 3
      }
     ]
    },
    "4e2ccd692da24f628597dc874d91f20a": {
     "views": [
      {
       "cell_index": 1
      }
     ]
    },
    "5d64a9f5a69f42bfa03e3d3dbb70f798": {
     "views": [
      {
       "cell_index": 3
      }
     ]
    },
    "6a7859abdec74053ba409fbfcd942f7d": {
     "views": [
      {
       "cell_index": 9
      }
     ]
    },
    "92a08d3315c44ce99edd8ef7811a0034": {
     "views": [
      {
       "cell_index": 9
      }
     ]
    },
    "95bc76b1763e49938f81610e34275e95": {
     "views": [
      {
       "cell_index": 3
      }
     ]
    },
    "a6d1439acd5141eaa8d906ee20fe0cea": {
     "views": [
      {
       "cell_index": 1
      }
     ]
    },
    "afc9553c00674b5980900b32420a5a87": {
     "views": [
      {
       "cell_index": 1
      }
     ]
    },
    "d159ecbc0eb34d7c86e15879f2f4645f": {
     "views": [
      {
       "cell_index": 3
      }
     ]
    },
    "f07393cd2e0b4bd48a8fd33976a74ef4": {
     "views": [
      {
       "cell_index": 3
      }
     ]
    },
    "f758eae71e374003a0cbbd87d0df3098": {
     "views": [
      {
       "cell_index": 9
      }
     ]
    }
   },
   "version": "1.2.0"
  }
 },
 "nbformat": 4,
 "nbformat_minor": 0
}
