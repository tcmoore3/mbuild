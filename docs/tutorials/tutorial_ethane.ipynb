{
 "cells": [
  {
   "cell_type": "markdown",
   "metadata": {},
   "source": [
    "Ethane: Reading from files, Ports and coordinate transforms\n",
    "================================\n",
    "\n",
    "What you will learn\n",
    "------------------\n",
    "* How to read a `Compound` from a file\n",
    "* `Port`s: how to easily join compounds\n",
    "* Coordinate transforms: how to translate and rotate `Compound`s\n",
    "\n",
    "__Note__: mBuild expects all distance units to be in nanometers."
   ]
  },
  {
   "cell_type": "markdown",
   "metadata": {},
   "source": [
    "As you probably noticed while creating your methane molecule in the last tutorial, manually adding `Particles` and `Bonds` to a `Compound` is a bit cumbersome. The easiest way to create small, reusable components, such as methyls, amines or monomers, is to hand draw them using software like [Avogadro](http://avogadro.cc/wiki/Main_Page) and export them as either a .pdb or .mol2 file (the file should contain connectivity information).\n",
    "\n",
    "Let's start by reading a methyl group from a `.pdb` file:"
   ]
  },
  {
   "cell_type": "code",
   "execution_count": 1,
   "metadata": {
    "collapsed": false
   },
   "outputs": [
    {
     "name": "stderr",
     "output_type": "stream",
     "text": [
      "/Users/tcmoore3/anaconda/envs/mbuild/lib/python3.5/site-packages/jupyter_core/application.py:106: DeprecationWarning: metadata {'config': True} was set from the constructor. With traitlets 4.1, metadata should be set using the .tag() method, e.g., Int().tag(key1='value1', key2='value2')\n",
      "  help=\"\"\"Generate default config file.\"\"\"\n",
      "/Users/tcmoore3/anaconda/envs/mbuild/lib/python3.5/site-packages/notebook/nbextensions.py:628: DeprecationWarning: metadata {'config': True} was set from the constructor. With traitlets 4.1, metadata should be set using the .tag() method, e.g., Int().tag(key1='value1', key2='value2')\n",
      "  user = Bool(False, config=True, help=\"Whether to do a user install\")\n",
      "/Users/tcmoore3/anaconda/envs/mbuild/lib/python3.5/site-packages/ipywidgets/widgets/widget.py:166: DeprecationWarning: Widget._keys_default is deprecated in traitlets 4.1: use @default decorator instead.\n",
      "  def _keys_default(self):\n"
     ]
    }
   ],
   "source": [
    "import mbuild as mb\n",
    "\n",
    "ch3 = mb.load('ch3.pdb')\n",
    "ch3.visualize()"
   ]
  },
  {
   "cell_type": "markdown",
   "metadata": {},
   "source": [
    "Now let's use our first coordinate transform to center the methyl at its carbon atom:"
   ]
  },
  {
   "cell_type": "code",
   "execution_count": 2,
   "metadata": {
    "collapsed": false
   },
   "outputs": [],
   "source": [
    "import mbuild as mb\n",
    "\n",
    "ch3 = mb.load('ch3.pdb')\n",
    "mb.translate(ch3, -ch3[0].pos)  # Move carbon to origin."
   ]
  },
  {
   "cell_type": "markdown",
   "metadata": {},
   "source": [
    "Now we have a methyl group loaded up and centered. In order to connect `Compounds` in `mBuild`, we make use of a special type of `Compound`: the `Port`. A `Port` is a `Compound` with two sets of four \"ghost\" `Particles`. In addition ``Ports`` have an `anchor` attribute which typically points to a particle that the `Port` should be associated with. In our methyl group, the `Port` should be anchored to the carbon atom so that we\n",
    "can now form bonds to this carbon:"
   ]
  },
  {
   "cell_type": "code",
   "execution_count": 3,
   "metadata": {
    "collapsed": false
   },
   "outputs": [],
   "source": [
    "import mbuild as mb\n",
    "\n",
    "ch3 = mb.load('ch3.pdb')\n",
    "mb.translate(ch3, -ch3[0].pos)  # Move carbon to origin.\n",
    "\n",
    "port = mb.Port(anchor=ch3[0])\n",
    "ch3.add(port, label='up')\n",
    "\n",
    "# Place the port at approximately half a C-C bond length.\n",
    "mb.translate(ch3['up'], [0, -0.07, 0])  "
   ]
  },
  {
   "cell_type": "markdown",
   "metadata": {},
   "source": [
    "By default, `Ports` are not output from the mBuild structure. However, it can be useful to look at a molecule with the `Ports` to check your work as you go:"
   ]
  },
  {
   "cell_type": "code",
   "execution_count": 4,
   "metadata": {
    "collapsed": false
   },
   "outputs": [],
   "source": [
    "ch3.visualize(show_ports=True)"
   ]
  },
  {
   "cell_type": "markdown",
   "metadata": {},
   "source": [
    "Similar to the methane tutorial, we wrap the methyl group into a python class so that we can reuse it as a component to build more complex molecules later."
   ]
  },
  {
   "cell_type": "code",
   "execution_count": 5,
   "metadata": {
    "collapsed": true
   },
   "outputs": [],
   "source": [
    "import mbuild as mb\n",
    "\n",
    "class CH3(mb.Compound):\n",
    "    def __init__(self):\n",
    "        super(CH3, self).__init__()\n",
    "\n",
    "        mb.load('ch3.pdb', compound=self)\n",
    "        mb.translate(self, -self[0].pos)  # Move carbon to origin.\n",
    "\n",
    "        port = mb.Port(anchor=self[0])\n",
    "        self.add(port, label='up')\n",
    "        # Place the port at approximately half a C-C bond length.\n",
    "        mb.translate(self['up'], [0, -0.07, 0]) "
   ]
  },
  {
   "cell_type": "markdown",
   "metadata": {},
   "source": [
    "When two `Ports` are connected, they are forced to overlap in space and their parent `Compounds` (i.e., their anchor) are rotated and translated by the same amount. \n",
    "\n",
    "__Note:__ If we tried to connect two of our methyls right now using only one set of four ghost particles, not only would the `Ports` overlap perfectly, but the carbons and hydrogens would also perfectly overlap - the 4 ghost atoms in the `Port` are arranged identically with respect to the other atoms. For example, if a `Port` and its direction is indicated by \"<-\", forcing the port in <-CH3 to overlap with <-CH3 would just look like <-CH3 (perfectly overlapping atoms).\n",
    "\n",
    "To solve this problem, every port contains a second set of 4 ghost atoms pointing in the opposite direction. When two `Compounds` are connected, the port that places the anchor atoms the farthest away from each other is chosen automatically to prevent this overlap scenario. \n",
    "\n",
    "When <->CH3 and <->CH3 are forced to overlap, the CH3<->CH3 is automatically chosen.\n",
    "\n",
    "Now the fun part: stick 'em together to create an ethane:"
   ]
  },
  {
   "cell_type": "code",
   "execution_count": 6,
   "metadata": {
    "collapsed": false
   },
   "outputs": [],
   "source": [
    "ethane = mb.Compound()\n",
    "\n",
    "ethane.add(CH3(), label=\"methyl_1\")\n",
    "ethane.add(CH3(), label=\"methyl_2\")\n",
    "mb.force_overlap(move_this=ethane['methyl_1'],\n",
    "                 from_positions=ethane['methyl_1']['up'],\n",
    "                 to_positions=ethane['methyl_2']['up'])\n",
    "ethane.visualize()"
   ]
  },
  {
   "cell_type": "markdown",
   "metadata": {},
   "source": [
    "Above, the `force_overlap()` function takes a `Compound` and then rotates and translates it such that two other `Compounds` overlap. Typically, as in\n",
    "this case, those two other `Compounds` are `Ports` - in our case, `methyl1['up']` and `methyl2['up']`."
   ]
  },
  {
   "cell_type": "code",
   "execution_count": 7,
   "metadata": {
    "collapsed": false
   },
   "outputs": [],
   "source": [
    "ethane.visualize(show_ports=True)"
   ]
  },
  {
   "cell_type": "markdown",
   "metadata": {},
   "source": [
    "Similarly, if we want to make ethane a reusable component, we need to wrap it into a python class."
   ]
  },
  {
   "cell_type": "code",
   "execution_count": 8,
   "metadata": {
    "collapsed": true
   },
   "outputs": [],
   "source": [
    "import mbuild as mb\n",
    "\n",
    "class Ethane(mb.Compound):\n",
    "    def __init__(self):\n",
    "        super(Ethane, self).__init__()\n",
    "\n",
    "        self.add(CH3(), label=\"methyl_1\")\n",
    "        self.add(CH3(), label=\"methyl_2\")\n",
    "        mb.force_overlap(move_this=self['methyl_1'],\n",
    "                         from_positions=self['methyl_1']['up'],\n",
    "                         to_positions=self['methyl_2']['up'])"
   ]
  },
  {
   "cell_type": "code",
   "execution_count": 9,
   "metadata": {
    "collapsed": false,
    "scrolled": true
   },
   "outputs": [],
   "source": [
    "ethane = Ethane()\n",
    "\n",
    "# Save to .mol2\n",
    "ethane.save('ethane.mol2', overwrite=True)\n",
    "\n",
    "ethane.visualize()"
   ]
  }
 ],
 "metadata": {
  "kernelspec": {
   "display_name": "Python 3",
   "language": "python",
   "name": "python3"
  },
  "language_info": {
   "codemirror_mode": {
    "name": "ipython",
    "version": 3
   },
   "file_extension": ".py",
   "mimetype": "text/x-python",
   "name": "python",
   "nbconvert_exporter": "python",
   "pygments_lexer": "ipython3",
   "version": "3.5.2"
  },
  "widgets": {
   "state": {
    "154f868f9c8a411e8db0c1e136be7249": {
     "views": [
      {
       "cell_index": 17
      }
     ]
    },
    "458e390a395b4dfaa46e42616de02679": {
     "views": [
      {
       "cell_index": 2
      }
     ]
    },
    "48bccbbede78475f80c2641803f24566": {
     "views": [
      {
       "cell_index": 14
      }
     ]
    },
    "50f4a12d42da42918793ed2e4280a5e6": {
     "views": [
      {
       "cell_index": 8
      }
     ]
    },
    "6053f4cc5c9c4eab90b855e5649b05db": {
     "views": [
      {
       "cell_index": 17
      }
     ]
    },
    "8ba0a72f1654479a9fb162f4ee1acd8c": {
     "views": [
      {
       "cell_index": 12
      }
     ]
    },
    "9dfd70659d8a4eec8001b44d3e345bc2": {
     "views": [
      {
       "cell_index": 12
      }
     ]
    },
    "a17bd341b389494b8088558e30224745": {
     "views": [
      {
       "cell_index": 2
      }
     ]
    },
    "f01e3c85628e48918e7ac4894bb72c63": {
     "views": [
      {
       "cell_index": 14
      }
     ]
    },
    "facdf620dd224a569f9da734dc5e1300": {
     "views": [
      {
       "cell_index": 8
      }
     ]
    }
   },
   "version": "1.2.0"
  }
 },
 "nbformat": 4,
 "nbformat_minor": 0
}
