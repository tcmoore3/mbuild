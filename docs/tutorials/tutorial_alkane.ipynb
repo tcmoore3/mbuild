{
 "cells": [
  {
   "cell_type": "markdown",
   "metadata": {},
   "source": [
    "Building a Simple Alkane\n",
    "==\n",
    "\n",
    "What you will learn\n",
    "--\n",
    "* How to build a system of polymers from basic building blocks\n",
    "\n",
    "__Note__: mBuild expects all distance units to be in nanometers."
   ]
  },
  {
   "cell_type": "markdown",
   "metadata": {},
   "source": [
    "## Setting up the monomer"
   ]
  },
  {
   "cell_type": "markdown",
   "metadata": {},
   "source": [
    "The first step is to construct the basic repeat unit for the alkane, i.e., a CH<sub>2</sub> group, similar to the construction of the CH<sub>3</sub> monomer in the methane tutorial.  Rather than importing the coordinates from a pdb file, as in the previous example, we will instead explicitly define them in the class."
   ]
  },
  {
   "cell_type": "code",
   "execution_count": 10,
   "metadata": {
    "collapsed": false
   },
   "outputs": [],
   "source": [
    "import mbuild as mb\n",
    "\n",
    "class CH2(mb.Compound):\n",
    "    def __init__(self):\n",
    "        super(CH2, self).__init__()\n",
    "        self.add(mb.Particle(name='C', pos=[0,0,0]), label='C[$]')\n",
    "        \n",
    "        # Add hydrogens \n",
    "        self.add(mb.Particle(name='H', pos=[-0.109, 0, 0.0]), label='HC[$]')    \n",
    "        self.add(mb.Particle(name='H', pos=[0.109, 0, 0.0]), label='HC[$]')\n",
    "        \n",
    "        # Add ports anchored to the carbon\n",
    "        self.add(mb.Port(anchor=self[0]), label='up')\n",
    "        self.add(mb.Port(anchor=self[0]), label='down')\n",
    "        \n",
    "        # Move the ports approximately half a C-C bond length away from the carbon\n",
    "        mb.translate(self['up'], [0, -0.154/2, 0]) \n",
    "        mb.translate(self['down'], [0, 0.154/2, 0]) \n",
    "\n",
    "monomer = CH2()\n",
    "monomer.visualize(show_ports=True)"
   ]
  },
  {
   "cell_type": "markdown",
   "metadata": {},
   "source": [
    "This configuration of the monomer is not a particularly realistic conformation. One could use this monomer to construct a polymer and then apply an energy minimization scheme, or, as we will demonstrate here, we can use `mBuild`'s rotation commands to provide a more realistic starting point. \n",
    "\n",
    "Below, we use the same basic script, but now apply a rotation to the hydrogen atoms. Since the hydrogens start 180&deg; apart and we know they should be ~109.5&deg; apart, each should be rotated half of the difference closer to each other around the y-axis. Note that the rotation angle is given in radians. Similarly, the ports should be rotated around the x-axis by the same amount so that atoms can be added in a realistic orientation. "
   ]
  },
  {
   "cell_type": "code",
   "execution_count": 11,
   "metadata": {
    "collapsed": false
   },
   "outputs": [],
   "source": [
    "import numpy as np\n",
    "import mbuild as mb\n",
    "\n",
    "class CH2(mb.Compound):\n",
    "    def __init__(self):\n",
    "        super(CH2, self).__init__()\n",
    "        self.add(mb.Particle(name='C', pos=[0,0,0]), label='C[$]')\n",
    "        self.add(mb.Particle(name='H', pos=[-0.109, 0, 0.0]), label='HC[$]')    \n",
    "        self.add(mb.Particle(name='H', pos=[0.109, 0, 0.0]), label='HC[$]')\n",
    "        theta = 0.5 * (180 - 109.5) * np.pi / 180\n",
    "        mb.rotate(self['HC'][0], theta, around=[0, 1, 0])\n",
    "        mb.rotate(self['HC'][1], -theta, around=[0, 1, 0])\n",
    "        \n",
    "        self.add(mb.Port(anchor=self[0]), label='up')\n",
    "        mb.translate(self['up'], [0, -0.154/2, 0]) \n",
    "        mb.rotate(self['up'], theta, around=[1, 0, 0])\n",
    "        self.add(mb.Port(anchor=self[0]), label='down')\n",
    "        mb.translate(self['down'], [0, 0.154/2, 0]) \n",
    "        mb.rotate(self['down'], -theta, around=[1, 0, 0]) \n",
    "\n",
    "monomer = CH2()\n",
    "monomer.visualize(show_ports=True)"
   ]
  },
  {
   "cell_type": "markdown",
   "metadata": {},
   "source": [
    "## Defining the polymerization class"
   ]
  },
  {
   "cell_type": "markdown",
   "metadata": {},
   "source": [
    "With a basic monomer construct, we can now construct a polymer by connecting the ports together. Here, we first instantiate one instance of the CH2 class as ```1ast_monomer```, then use the clone function to make a copy. The ```force_overlap()``` function is used to connect the ```'up'``` port from ```current_monomer``` to the ```'down'``` port of ```last_mononer```."
   ]
  },
  {
   "cell_type": "code",
   "execution_count": 12,
   "metadata": {
    "collapsed": true
   },
   "outputs": [],
   "source": [
    "class AlkanePolymer(mb.Compound):\n",
    "    def __init__(self):\n",
    "        super(AlkanePolymer, self).__init__()\n",
    "        last_monomer = CH2()\n",
    "        self.add(last_monomer)\n",
    "        for i in range(3):\n",
    "            current_monomer = mb.clone(last_monomer)\n",
    "            mb.force_overlap(move_this=current_monomer, \n",
    "                             from_positions=current_monomer['up'], \n",
    "                             to_positions=last_monomer['down'])\n",
    "            self.add(current_monomer)\n",
    "            last_monomer = current_monomer\n",
    "\n",
    "polymer = AlkanePolymer()\n",
    "polymer.visualize(show_ports=True)"
   ]
  },
  {
   "cell_type": "markdown",
   "metadata": {},
   "source": [
    "Visualization of this structure demonstrates a problem; the polymer curls up on itself.  This is a result of the fact that ports not only define the location in space, but also an orientation. This can be trivially fixed, by first rotating the port 180&deg; around the y-axis.  \n",
    "\n",
    "We can also add a variable ```chain_length``` both to the for loop and ```init```  that will allow the length of the polymer to be adjusted when the class is instantiated.  "
   ]
  },
  {
   "cell_type": "code",
   "execution_count": 13,
   "metadata": {
    "collapsed": true
   },
   "outputs": [],
   "source": [
    "import numpy as np\n",
    "import mbuild as mb\n",
    "\n",
    "class CH2(mb.Compound):\n",
    "    def __init__(self):\n",
    "        super(CH2, self).__init__()\n",
    "        self.add(mb.Particle(name='C', pos=[0,0,0]), label='C[$]')\n",
    "        self.add(mb.Particle(name='H', pos=[-0.109, 0, 0.0]), label='HC[$]')    \n",
    "        self.add(mb.Particle(name='H', pos=[0.109, 0, 0.0]), label='HC[$]')\n",
    "        theta = 0.5 * (180 - 109.5) * np.pi / 180\n",
    "        mb.rotate(self['HC'][0], theta, around=[0, 1, 0])\n",
    "        mb.rotate(self['HC'][1], -theta, around=[0, 1, 0])\n",
    "        \n",
    "        self.add(mb.Port(anchor=self[0]), label='up')\n",
    "        mb.translate(self['up'], [0, -0.154/2, 0]) \n",
    "        mb.rotate(self['up'], theta, around=[1, 0, 0])\n",
    "        self.add(mb.Port(anchor=self[0]), label='down')\n",
    "        mb.translate(self['down'], [0, 0.154/2, 0])\n",
    "        mb.rotate(self['down'], np.pi, [0, 1, 0])\n",
    "        mb.rotate(self['down'], -theta, around=[1, 0, 0]) \n",
    "\n",
    "\n",
    "class AlkanePolymer(mb.Compound):\n",
    "    def __init__(self, chain_length=1):\n",
    "        super(AlkanePolymer, self).__init__()\n",
    "        last_monomer = CH2()\n",
    "        self.add(last_monomer)\n",
    "        for i in range (chain_length-1):\n",
    "            current_monomer = mb.clone(last_monomer)\n",
    "    \n",
    "            mb.force_overlap(move_this=current_monomer, \n",
    "                             from_positions=current_monomer['up'], \n",
    "                             to_positions=last_monomer['down'])\n",
    "            self.add(current_monomer)\n",
    "            last_monomer=current_monomer"
   ]
  },
  {
   "cell_type": "code",
   "execution_count": 14,
   "metadata": {
    "collapsed": false
   },
   "outputs": [],
   "source": [
    "polymer = AlkanePolymer(chain_length=10)\n",
    "polymer.visualize(show_ports=True)"
   ]
  },
  {
   "cell_type": "markdown",
   "metadata": {},
   "source": [
    "## Building a System of Alkanes "
   ]
  },
  {
   "cell_type": "markdown",
   "metadata": {},
   "source": [
    "A system of alkanes can be constructed by simply cloning the polymer constructed above and translating and/or rotating the alkanes in space. ```mBuild``` provides many routines that can be used to create different patterns, to which the polymers can be shifted."
   ]
  },
  {
   "cell_type": "code",
   "execution_count": 15,
   "metadata": {
    "collapsed": false
   },
   "outputs": [],
   "source": [
    "# create the polymer\n",
    "polymer = mb.Polymer(CH2(), 10, port_labels=('up', 'down'))\n",
    "\n",
    "# the pattern we generate puts points in the xy-plane, so we'll rotate the polymer\n",
    "# so that it is oriented normal to the xy-plane\n",
    "mb.rotate(polymer, np.pi/2, [1, 0, 0])\n",
    "\n",
    "# define a compound to hold all the polymers\n",
    "system = mb.Compound()\n",
    "\n",
    "# create a pattern of points to fill a disk\n",
    "# patterns are generated between 0 and 1, \n",
    "# and thus need to be scaled to provide appropriate spacing\n",
    "pattern_disk = mb.DiskPattern(50)\n",
    "pattern_disk.scale(5) \n",
    "\n",
    "# now clone the polymer and move it to the points in the pattern\n",
    "for pos in pattern_disk:\n",
    "    current_polymer = mb.clone(polymer)\n",
    "    mb.translate(current_polymer, pos)\n",
    "    system.add(current_polymer)\n",
    "    \n",
    "system.visualize()"
   ]
  },
  {
   "cell_type": "markdown",
   "metadata": {},
   "source": [
    "Other patterns can be used, e.g., the ```Grid3DPattern```.  We can also use the rotation commands to randomize the orientation. "
   ]
  },
  {
   "cell_type": "code",
   "execution_count": 16,
   "metadata": {
    "collapsed": false
   },
   "outputs": [],
   "source": [
    "import random\n",
    "\n",
    "polymer = mb.Polymer(CH2(), 10, port_labels=('up', 'down'))\n",
    "system = mb.Compound()\n",
    "mb.rotate(polymer, np.pi/2, [1, 0, 0])\n",
    "\n",
    "pattern_disk = mb.Grid3DPattern(5, 5, 5)\n",
    "pattern_disk.scale(8.0)\n",
    "    \n",
    "for pos in pattern_disk:\n",
    "    current_polymer = mb.clone(polymer)\n",
    "    for around in [(1, 0, 0), (0, 1, 0), (0, 0, 1)]:  # rotate around x, y, and z\n",
    "        mb.rotate(current_polymer, random.uniform(0, np.pi), around)\n",
    "    mb.translate(current_polymer, pos)\n",
    "    system.add(current_polymer)\n",
    "\n",
    "system.visualize()"
   ]
  },
  {
   "cell_type": "markdown",
   "metadata": {},
   "source": [
    "```mBuild``` also provides an interface to ```PACKMOL```, allowing the creation of a randomized configuration."
   ]
  },
  {
   "cell_type": "code",
   "execution_count": 17,
   "metadata": {
    "collapsed": true
   },
   "outputs": [],
   "source": [
    "polymer = mb.Polymer(CH2(), 5, port_labels=('up', 'down'))\n",
    "system = mb.fill_box(polymer, n_compounds=100, overlap=1.5, box=[10,10,10]) \n",
    "system.visualize()"
   ]
  },
  {
   "cell_type": "markdown",
   "metadata": {},
   "source": [
    "## Variations"
   ]
  },
  {
   "cell_type": "markdown",
   "metadata": {},
   "source": [
    "Rather than a linear chain, the ```Polymer``` class we wrote can be easily changed such that small perturbations are given to each port. To avoid accumulation of deviations from the equilibrium angle, we will clone an unperturbed monomer each time (i.e., ```monomer_proto```) before applying a random variation.  \n",
    "\n",
    "We also define a variable ```delta```, which will control the maximum amount of perturbation. Note that large values of ```delta``` may result in the chain overlapping itself, as ```mBuild``` does not currently include routines to exclude such overlaps."
   ]
  },
  {
   "cell_type": "code",
   "execution_count": 18,
   "metadata": {
    "collapsed": true
   },
   "outputs": [],
   "source": [
    "import mbuild as mb\n",
    "\n",
    "import random\n",
    "\n",
    "class AlkanePolymer(mb.Compound):\n",
    "    def __init__(self, chain_length=1, delta=0):\n",
    "        super(AlkanePolymer, self).__init__()\n",
    "        monomer_proto = CH2()\n",
    "        last_monomer = CH2()\n",
    "        mb.rotate(last_monomer['down'], random.uniform(-delta,delta), [1, 0, 0])\n",
    "        mb.rotate(last_monomer['down'], random.uniform(-delta,delta), [0, 1, 0])\n",
    "        self.add(last_monomer)\n",
    "        for i in range(chain_length-1):\n",
    "            current_monomer = mb.clone(monomer_proto)\n",
    "            mb.rotate(current_monomer['down'], random.uniform(-delta,delta), [1, 0, 0])\n",
    "            mb.rotate(current_monomer['down'], random.uniform(-delta,delta), [0, 1, 0])\n",
    "            mb.force_overlap(move_this=current_monomer, \n",
    "                             from_positions=current_monomer['up'], \n",
    "                             to_positions=last_monomer['down'])\n",
    "            self.add(current_monomer)\n",
    "            last_monomer=current_monomer\n",
    "\n",
    "polymer = AlkanePolymer(chain_length = 200, delta=0.4)\n",
    "polymer.visualize()"
   ]
  }
 ],
 "metadata": {
  "kernelspec": {
   "display_name": "Python 3",
   "language": "python",
   "name": "python3"
  },
  "language_info": {
   "codemirror_mode": {
    "name": "ipython",
    "version": 3
   },
   "file_extension": ".py",
   "mimetype": "text/x-python",
   "name": "python",
   "nbconvert_exporter": "python",
   "pygments_lexer": "ipython3",
   "version": "3.5.2"
  },
  "widgets": {
   "state": {
    "036ad66b46544abf81a11714ded00ac3": {
     "views": [
      {
       "cell_index": 18
      }
     ]
    },
    "0493386005a94905b9842388d99f7f36": {
     "views": [
      {
       "cell_index": 3
      }
     ]
    },
    "1eee825a81c042efb3489f8390e01afe": {
     "views": [
      {
       "cell_index": 21
      }
     ]
    },
    "1fd5596649364cc4a9af777099fca2b0": {
     "views": [
      {
       "cell_index": 8
      }
     ]
    },
    "250e87c2aef04fbc8fc0e047834fbf43": {
     "views": [
      {
       "cell_index": 11
      }
     ]
    },
    "3e611a54bf9d4138bc8fd70341636e67": {
     "views": [
      {
       "cell_index": 14
      }
     ]
    },
    "3fd17c5546f74421a144b2101fe6d15c": {
     "views": [
      {
       "cell_index": 3
      }
     ]
    },
    "43ce28c2ce0548fa85c33dbb337318ea": {
     "views": [
      {
       "cell_index": 3
      }
     ]
    },
    "441ff4f219264360ac9173cd06a4b76a": {
     "views": [
      {
       "cell_index": 14
      }
     ]
    },
    "587c79004c0a48ea84c70ec501cf1cd5": {
     "views": [
      {
       "cell_index": 14
      }
     ]
    },
    "72ccd75082114c7bb9a1a593092683b6": {
     "views": [
      {
       "cell_index": 18
      }
     ]
    },
    "761b6d12a3594b8bb0d2c8999361c41c": {
     "views": [
      {
       "cell_index": 16
      }
     ]
    },
    "7cac75021b0a493d8534e7c3535d8f9c": {
     "views": [
      {
       "cell_index": 21
      }
     ]
    },
    "81b5c062cbca4949a1420ce3ee64e328": {
     "views": [
      {
       "cell_index": 21
      }
     ]
    },
    "93196739a26a436a9fa28e915f274071": {
     "views": [
      {
       "cell_index": 8
      }
     ]
    },
    "959f33ca455947dc8b82ea313f5923bd": {
     "views": [
      {
       "cell_index": 5
      }
     ]
    },
    "ae58cd65fd0e45e4bf5186f66a236e7f": {
     "views": [
      {
       "cell_index": 8
      }
     ]
    },
    "b108a6632d7f4078973c34f86ad26588": {
     "views": [
      {
       "cell_index": 16
      }
     ]
    },
    "bafae711b4964e34a355099d89ccd57c": {
     "views": [
      {
       "cell_index": 18
      }
     ]
    },
    "beb58d5880034cabaeb0b28f4da250df": {
     "views": [
      {
       "cell_index": 11
      }
     ]
    },
    "e432de45918046158792ea7573eedf2e": {
     "views": [
      {
       "cell_index": 5
      }
     ]
    },
    "efcb109198b64713832cb633724b9652": {
     "views": [
      {
       "cell_index": 11
      }
     ]
    },
    "fac25ce45a05413cac796f31d1586456": {
     "views": [
      {
       "cell_index": 5
      }
     ]
    },
    "fc38fdef2c204d9ab2001efc046c279e": {
     "views": [
      {
       "cell_index": 16
      }
     ]
    }
   },
   "version": "1.2.0"
  }
 },
 "nbformat": 4,
 "nbformat_minor": 2
}
